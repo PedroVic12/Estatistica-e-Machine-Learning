{
 "cells": [
  {
   "cell_type": "markdown",
   "metadata": {},
   "source": [
    "***\n",
    "# ***Medidas de Centralidade e Variabilidade***\n",
    "***\n",
    "\n",
    "**Centralidade**:\n",
    "- Media\n",
    "\n",
    "- Moda\n",
    "\n",
    "- Mediana\n",
    "\n",
    "**Variabilidade**:\n",
    "- Variância\n",
    "\n",
    "- Desvio padrão\n",
    "\n",
    "- Amplitude\n",
    "\n",
    "- Não Centrais: Quartis"
   ]
  },
  {
   "cell_type": "code",
   "execution_count": 1,
   "metadata": {},
   "outputs": [],
   "source": [
    "import numpy as np\n",
    "from scipy import stats"
   ]
  },
  {
   "cell_type": "markdown",
   "metadata": {},
   "source": [
    "# ***1) Centralidade***:"
   ]
  },
  {
   "cell_type": "markdown",
   "metadata": {},
   "source": [
    "## **→ Média:**\n",
    "x = Valores | n = numero total de valores\n",
    "\n",
    "**População**:\n",
    "## $ u = \\frac{\\sum X}{n} $\n",
    "\n",
    "**Amostra**:\n",
    "## $ \\overline{X} = \\frac{\\sum X}{n} $\n"
   ]
  },
  {
   "cell_type": "code",
   "execution_count": 16,
   "metadata": {},
   "outputs": [
    {
     "name": "stdout",
     "output_type": "stream",
     "text": [
      "Media = 181111.11111111112\n"
     ]
    },
    {
     "data": {
      "text/plain": [
       "DescribeResult(nobs=9, minmax=(12000, 800000), mean=181111.11111111112, variance=65182111111.11111, skewness=1.758635899846188, kurtosis=1.9572075427527729)"
      ]
     },
     "execution_count": 16,
     "metadata": {},
     "output_type": "execute_result"
    }
   ],
   "source": [
    " #* Dados\n",
    "jogadores = [40000,18000,12000,250000,30000,140000,300000,40000,800000]\n",
    "\n",
    "media = np.mean(jogadores)\n",
    "\n",
    "print('Media =',media)\n",
    "\n",
    "stats.describe(jogadores)"
   ]
  },
  {
   "cell_type": "markdown",
   "metadata": {},
   "source": [
    "## **→ Moda: Valor que mais aparece**"
   ]
  },
  {
   "cell_type": "markdown",
   "metadata": {},
   "source": [
    "## **→ Mediana: Valor do meio**\n",
    "- Ordena-se os valores em ordem crescente\n",
    "\n",
    "- Se a quantidade for par, a mediana sera á média dos valores nas posições ``n/2`` e ``(n/2)+1``\n",
    "\n",
    "- Se a quantidade for impar, a mediana sera o valor da posição na posição ``(n+1)/2``"
   ]
  },
  {
   "cell_type": "code",
   "execution_count": 12,
   "metadata": {},
   "outputs": [
    {
     "name": "stdout",
     "output_type": "stream",
     "text": [
      "Mediana = 40000.0\n"
     ]
    }
   ],
   "source": [
    " #* Dados\n",
    "jogadores = [40000,18000,12000,250000,30000,140000,300000,40000,800000]\n",
    "\n",
    "mediana = np.median(jogadores)\n",
    "\n",
    "print('Mediana =',mediana)"
   ]
  },
  {
   "cell_type": "markdown",
   "metadata": {},
   "source": [
    "# ***2) Variabilidade***"
   ]
  },
  {
   "cell_type": "markdown",
   "metadata": {},
   "source": [
    "## **→ Variância**:\n",
    "- Mostra a regularidade de um conjunto de dados em relação a ``média``.\n",
    "- Variância e desvio padrão se relacionam.\n",
    "\n",
    "- Variância da População:\n",
    "$$ \\sigma^2 = \\frac{\\sum (X - \\overline{X})^2}{N} $$\n",
    "\n",
    "- Variância da Amostra:\n",
    "$$ S^2 = \\frac{\\sum (X - \\overline{X})^2}{N-1}  $$\n"
   ]
  },
  {
   "cell_type": "markdown",
   "metadata": {},
   "source": [
    "## **→ Desvio Padrão**:\n",
    "\n",
    "- Diz em ``media``, a que distancia os dados estão da ``média``. \n",
    "\n",
    "- Desvio padrão = $ \\sqrt{\\sigma^2} $\n",
    "\n",
    "- Quanto maior o desvio padrão, mais afastados os dados estao da média.\n",
    "\n",
    "- OBS: Desvio padrão = 0 → Não existe variação nos dados.(todos são iguais.)"
   ]
  },
  {
   "cell_type": "code",
   "execution_count": 20,
   "metadata": {},
   "outputs": [
    {
     "name": "stdout",
     "output_type": "stream",
     "text": [
      "Desvio Padrão = 255307.87514511007\n"
     ]
    }
   ],
   "source": [
    " #* Dados\n",
    "\n",
    "jogadores = [40000,18000,12000,250000,30000,140000,300000,40000,800000]\n",
    "\n",
    "std = np.std(jogadores, ddof=1) #!ddof = (n-1)\n",
    "\n",
    "print('Desvio Padrão =',std)"
   ]
  },
  {
   "cell_type": "markdown",
   "metadata": {},
   "source": [
    "## **→ Amplitude**:\n",
    "\n",
    "- Diferença entre o ``maior`` e o ``menor`` conjunto de dados."
   ]
  },
  {
   "cell_type": "markdown",
   "metadata": {},
   "source": [
    "## **→ Medidas Não Centrais:**\n",
    "- Elas nos ajudam a estudar como os dados estão distribuídos.\n",
    "\n",
    "- Se os dados estiverem muito distantes, os dados vao alterar a media, radicalmente.\n",
    " \n",
    "- Portanto, através dos Quartis, é possível identificar onde estar essa discrepância\n",
    "<br>\n",
    "<br>\n",
    "- Quartis:\n",
    "    - Q1: 25% dos menores valores\n",
    "    - Q2: 50%, igual a mediana\n",
    "    - Q3: 75% dos maiores valores"
   ]
  },
  {
   "cell_type": "code",
   "execution_count": 14,
   "metadata": {},
   "outputs": [
    {
     "name": "stdout",
     "output_type": "stream",
     "text": [
      "Quartis: [ 12000.  30000.  40000. 250000. 800000.]\n"
     ]
    }
   ],
   "source": [
    " #* Dados\n",
    "jogadores = [40000,18000,12000,250000,30000,140000,300000,40000,800000]\n",
    "\n",
    "quartis = np.quantile(jogadores,[0, 0.25, 0.5, 0.75, 1])\n",
    "print('Quartis:',quartis)"
   ]
  }
 ],
 "metadata": {
  "interpreter": {
   "hash": "74ab7c6ffe6706754a8af46cc4d18eebe476c74ce21a19282f620e1b1e9919fe"
  },
  "kernelspec": {
   "display_name": "Python 3.9.7 ('base')",
   "language": "python",
   "name": "python3"
  },
  "language_info": {
   "codemirror_mode": {
    "name": "ipython",
    "version": 3
   },
   "file_extension": ".py",
   "mimetype": "text/x-python",
   "name": "python",
   "nbconvert_exporter": "python",
   "pygments_lexer": "ipython3",
   "version": "3.9.7"
  },
  "orig_nbformat": 4
 },
 "nbformat": 4,
 "nbformat_minor": 2
}
