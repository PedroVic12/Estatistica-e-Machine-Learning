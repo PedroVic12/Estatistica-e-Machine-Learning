{
 "cells": [
  {
   "cell_type": "markdown",
   "metadata": {},
   "source": [
    "***\n",
    "# ***Usando estatística ao seu favor.***\n",
    "***"
   ]
  },
  {
   "cell_type": "code",
   "execution_count": 1,
   "metadata": {},
   "outputs": [],
   "source": [
    "import numpy as np\n",
    "from scipy import stats"
   ]
  },
  {
   "cell_type": "markdown",
   "metadata": {},
   "source": [
    "### Vamos supor que voce é um vendedor e tem uma loja de carros. Voce quer vender os carros ao preço de mercado, na compra e venda. \n",
    "\n",
    "- Voce pega e olha as vendas desses veículos (valores)\n",
    "\n",
    "- Calcula a media e mediana\n",
    "\n",
    "- Se o valor ``maior`` for a ``mediana``, então esse valor é do ``VENDA``. Portanto, o valor de ``COMPRA`` é a ``Média``.\n",
    "- Se o valor ``maior`` for a ``media``, então esse valor é do ``VENDA``. Portanto, o valor de ``COMPRA`` é a ``Mediana``."
   ]
  },
  {
   "cell_type": "code",
   "execution_count": 7,
   "metadata": {},
   "outputs": [
    {
     "name": "stdout",
     "output_type": "stream",
     "text": [
      "Mediana = 45250.0\n",
      "Media = 47170.0\n",
      "O valor de compra é 45250.0\n",
      "O valor de venda é 47170.0\n"
     ]
    }
   ],
   "source": [
    " #* Dados:\n",
    "precos_carros = [45000,45200,45250,48300,52100]\n",
    "\n",
    "mediana = np.median(precos_carros)\n",
    "\n",
    "print('Mediana =',mediana)\n",
    "\n",
    "media = np.mean(precos_carros)\n",
    "\n",
    "print('Media =',media)\n",
    "\n",
    "if mediana > media:\n",
    "    maior = mediana\n",
    "    print('O valor de compra é',media)\n",
    "    print('O valor de venda é',mediana)\n",
    "else:\n",
    "    maior = media\n",
    "    print('O valor de compra é',mediana)\n",
    "    print('O valor de venda é',media)"
   ]
  }
 ],
 "metadata": {
  "interpreter": {
   "hash": "74ab7c6ffe6706754a8af46cc4d18eebe476c74ce21a19282f620e1b1e9919fe"
  },
  "kernelspec": {
   "display_name": "Python 3.9.7 ('base')",
   "language": "python",
   "name": "python3"
  },
  "language_info": {
   "codemirror_mode": {
    "name": "ipython",
    "version": 3
   },
   "file_extension": ".py",
   "mimetype": "text/x-python",
   "name": "python",
   "nbconvert_exporter": "python",
   "pygments_lexer": "ipython3",
   "version": "3.9.7"
  },
  "orig_nbformat": 4
 },
 "nbformat": 4,
 "nbformat_minor": 2
}
